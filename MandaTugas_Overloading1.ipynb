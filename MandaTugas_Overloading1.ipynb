{
  "nbformat": 4,
  "nbformat_minor": 0,
  "metadata": {
    "colab": {
      "provenance": [],
      "include_colab_link": true
    },
    "kernelspec": {
      "name": "python3",
      "display_name": "Python 3"
    },
    "language_info": {
      "name": "python"
    }
  },
  "cells": [
    {
      "cell_type": "markdown",
      "metadata": {
        "id": "view-in-github",
        "colab_type": "text"
      },
      "source": [
        "<a href=\"https://colab.research.google.com/github/MandaPriyanita/overloading/blob/main/MandaTugas_Overloading1.ipynb\" target=\"_parent\"><img src=\"https://colab.research.google.com/assets/colab-badge.svg\" alt=\"Open In Colab\"/></a>"
      ]
    },
    {
      "cell_type": "code",
      "execution_count": 6,
      "metadata": {
        "id": "cytAUNWzM1-6"
      },
      "outputs": [],
      "source": [
        "#Buat Perkalian yang memiliki Sebuah fungsi dangan nama Hitung\n",
        "#method hasil() dengan variasi parameter\n",
        "class Perkalian:\n",
        "    def hasil(self, *args):\n",
        "        jumlah = 1\n",
        "        for angka in args:\n",
        "            jumlah *= angka\n",
        "        print(jumlah)"
      ]
    },
    {
      "cell_type": "code",
      "source": [
        "#Buat main program\n",
        "a = Perkalian()\n",
        "\n",
        "#Panggil fungsi Hitung untuk menghitung 2 parameter\n",
        "a.hasil(7, 2)\n",
        "#Panggil fungsi Hitung untuk menghitung 3 parameter\n",
        "a.hasil(5, 8, 7)\n",
        "#Panggil fungsi Hitung untuk menghitung 4 parameter\n",
        "a.hasil(3, 1, 9, 6)"
      ],
      "metadata": {
        "id": "W9hN-kX7PDUI",
        "colab": {
          "base_uri": "https://localhost:8080/"
        },
        "outputId": "e80fc21a-ccc4-4b57-f2ce-1dfa2c953006"
      },
      "execution_count": 7,
      "outputs": [
        {
          "output_type": "stream",
          "name": "stdout",
          "text": [
            "14\n",
            "280\n",
            "162\n"
          ]
        }
      ]
    }
  ]
}