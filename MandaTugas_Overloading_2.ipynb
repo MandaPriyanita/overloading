{
  "nbformat": 4,
  "nbformat_minor": 0,
  "metadata": {
    "colab": {
      "provenance": [],
      "include_colab_link": true
    },
    "kernelspec": {
      "name": "python3",
      "display_name": "Python 3"
    },
    "language_info": {
      "name": "python"
    }
  },
  "cells": [
    {
      "cell_type": "markdown",
      "metadata": {
        "id": "view-in-github",
        "colab_type": "text"
      },
      "source": [
        "<a href=\"https://colab.research.google.com/github/MandaPriyanita/overloading/blob/main/MandaTugas_Overloading_2.ipynb\" target=\"_parent\"><img src=\"https://colab.research.google.com/assets/colab-badge.svg\" alt=\"Open In Colab\"/></a>"
      ]
    },
    {
      "cell_type": "code",
      "execution_count": 1,
      "metadata": {
        "id": "5zCytCeM1uD4"
      },
      "outputs": [],
      "source": [
        "#class Nama\n",
        "#Buat fungsi yang digunakan untuk mengabungkan nama dengan ketentuan nama depan, nama tengah, nama akhir, dan seterusnya dianggap 1 (satu) parameter\n",
        "class Nama:\n",
        "  def gabung(self, num1=\"\", num2=\"\", num3=\"\", num4=\"\", num5=\"\"):\n",
        "    print(num1 + num2 + num3 + num4 + num5)\n",
        ""
      ]
    },
    {
      "cell_type": "code",
      "source": [
        "#Buat main program\n",
        "#Panggil fungsi untuk membuat nama lengkap 4 nama teman kalian\n",
        "a = Nama()\n",
        "\n",
        "a.gabung(\"Manda \", \"Priyanita \")\n",
        "a.gabung(\"Selly \", \"Mutomimah\")\n",
        "a.gabung(\"Anila\", \"Yaffa \", \"Zafirah \")\n",
        "a.gabung(\"Anisa\", \"Yaffa \", \"Zafirah \")"
      ],
      "metadata": {
        "id": "liQBcJWZ12MN",
        "colab": {
          "base_uri": "https://localhost:8080/"
        },
        "outputId": "984250d2-35dd-4171-dbb8-c6ee3ac0e511"
      },
      "execution_count": 2,
      "outputs": [
        {
          "output_type": "stream",
          "name": "stdout",
          "text": [
            "Manda Priyanita \n",
            "Selly Mutomimah\n",
            "AnilaYaffa Zafirah \n",
            "AnisaYaffa Zafirah \n"
          ]
        }
      ]
    },
    {
      "cell_type": "code",
      "source": [
        "Tulisakan kesimpulan dari materi Overloading menurut pemahaman anda!\n",
        "Bahasa pemrograman yang bisa mendeklarasikan lebih dari satu metode dengan nama yang sama, tapi dengan tipe dan jumlah argumen yang berbeda."
      ],
      "metadata": {
        "id": "xwFmppIG3JGE"
      },
      "execution_count": null,
      "outputs": []
    }
  ]
}